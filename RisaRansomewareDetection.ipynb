{
  "nbformat": 4,
  "nbformat_minor": 0,
  "metadata": {
    "colab": {
      "provenance": [],
      "include_colab_link": true
    },
    "kernelspec": {
      "name": "python3",
      "display_name": "Python 3"
    },
    "language_info": {
      "name": "python"
    }
  },
  "cells": [
    {
      "cell_type": "markdown",
      "metadata": {
        "id": "view-in-github",
        "colab_type": "text"
      },
      "source": [
        "<a href=\"https://colab.research.google.com/github/TheTr1Noob/Project/blob/main/RisaRansomewareDetection.ipynb\" target=\"_parent\"><img src=\"https://colab.research.google.com/assets/colab-badge.svg\" alt=\"Open In Colab\"/></a>"
      ]
    },
    {
      "cell_type": "markdown",
      "source": [
        "Import required packages"
      ],
      "metadata": {
        "id": "G8DYz3PSa5A_"
      }
    },
    {
      "cell_type": "code",
      "execution_count": null,
      "metadata": {
        "id": "63M-HxHSaxEq"
      },
      "outputs": [],
      "source": [
        "import pandas as pd\n",
        "import numpy as np\n",
        "from sklearn.model_selection import train_test_split\n",
        "from sklearn.preprocessing import LabelEncoder, StandardScaler\n",
        "from sklearn.ensemble import RandomForestClassifier\n",
        "from sklearn.linear_model import LogisticRegression\n",
        "from xgboost import XGBClassifier\n",
        "from sklearn.metrics import accuracy_score, classification_report, confusion_matrix, precision_score\n",
        "import matplotlib.pyplot as plt\n",
        "import seaborn as sns"
      ]
    },
    {
      "cell_type": "markdown",
      "source": [
        "Reading the dataset"
      ],
      "metadata": {
        "id": "NXpgFnmna-fS"
      }
    },
    {
      "cell_type": "code",
      "source": [
        "df = pd.read_csv('Final_Dataset_without_duplicate.csv')"
      ],
      "metadata": {
        "id": "v9H5cbT5a2V1"
      },
      "execution_count": null,
      "outputs": []
    },
    {
      "cell_type": "markdown",
      "source": [
        "Displaying the first and last 5 rows"
      ],
      "metadata": {
        "id": "lmJz7tDIbDIF"
      }
    },
    {
      "cell_type": "code",
      "source": [
        "df.head()"
      ],
      "metadata": {
        "colab": {
          "base_uri": "https://localhost:8080/",
          "height": 325
        },
        "id": "i4z3GIG9a9ar",
        "outputId": "a5cba261-2231-423e-f21b-f67a06401494"
      },
      "execution_count": null,
      "outputs": [
        {
          "output_type": "execute_result",
          "data": {
            "text/plain": [
              "                                md5                                      sha1  \\\n",
              "0  d5aa2b2506dd71b65307bb551a6a099d  62f4d55a1bb8396e493d7815dc44febed7161535   \n",
              "1  8d1178cec97f96a9ede3efe2f30ef30e  ca40945a4e35d48794a5e13aacf16b8ae1caddeb   \n",
              "2  c08d7afb7966f452cf5aa9283fe8880a  6f47b50480bea61ae4dfb75c12582990cc5ce770   \n",
              "3  3554a3a99e7ffb57552aedcb2520f1d2  8c3d5b506a8d55f42f4c83ead3e4341255d1acfc   \n",
              "4  5be9511d42136df49d9501680e84109f  0a7d0c68c591db2f197b2169d226bebe6e9bdabe   \n",
              "\n",
              "  file_extension EntryPoint PEType                          MachineType  \\\n",
              "0            exe    0x108ec  PE32+                            AMD AMD64   \n",
              "1            exe   0x25cf9c  PE32+                            AMD AMD64   \n",
              "2            exe     0x2a7e   PE32  Intel 386 or later, and compatibles   \n",
              "3            exe    0x64ca0  PE32+                            AMD AMD64   \n",
              "4            exe    0x1b9ae   PE32  Intel 386 or later, and compatibles   \n",
              "\n",
              "  magic_number bytes_on_last_page pages_in_file relocations  ...  \\\n",
              "0           MZ             0x0090        0x0003      0x0000  ...   \n",
              "1           MZ             0x0090        0x0003      0x0000  ...   \n",
              "2           MZ             0x0090        0x0003      0x0000  ...   \n",
              "3           MZ             0x0090        0x0003      0x0004  ...   \n",
              "4           MZ             0x0090        0x0003      0x0000  ...   \n",
              "\n",
              "  total_procsses files_malicious files_suspicious files_text files_unknown  \\\n",
              "0            0.0             0.0              0.0        0.0           0.0   \n",
              "1           93.0             0.0              0.0        0.0           0.0   \n",
              "2           35.0             0.0              0.0        0.0           0.0   \n",
              "3            0.0             0.0              0.0        0.0           0.0   \n",
              "4           36.0             0.0              0.0        0.0           0.0   \n",
              "\n",
              "  dlls_calls   apis   Class Category  Family  \n",
              "0        6.0  162.0  Benign   Benign  Benign  \n",
              "1       22.0  778.0  Benign   Benign  Benign  \n",
              "2        1.0    1.0  Benign   Benign  Benign  \n",
              "3        1.0   40.0  Benign   Benign  Benign  \n",
              "4        1.0    1.0  Benign   Benign  Benign  \n",
              "\n",
              "[5 rows x 77 columns]"
            ],
            "text/html": [
              "\n",
              "  <div id=\"df-a7ec9011-00d5-4a06-ac65-eb81cd5375e3\" class=\"colab-df-container\">\n",
              "    <div>\n",
              "<style scoped>\n",
              "    .dataframe tbody tr th:only-of-type {\n",
              "        vertical-align: middle;\n",
              "    }\n",
              "\n",
              "    .dataframe tbody tr th {\n",
              "        vertical-align: top;\n",
              "    }\n",
              "\n",
              "    .dataframe thead th {\n",
              "        text-align: right;\n",
              "    }\n",
              "</style>\n",
              "<table border=\"1\" class=\"dataframe\">\n",
              "  <thead>\n",
              "    <tr style=\"text-align: right;\">\n",
              "      <th></th>\n",
              "      <th>md5</th>\n",
              "      <th>sha1</th>\n",
              "      <th>file_extension</th>\n",
              "      <th>EntryPoint</th>\n",
              "      <th>PEType</th>\n",
              "      <th>MachineType</th>\n",
              "      <th>magic_number</th>\n",
              "      <th>bytes_on_last_page</th>\n",
              "      <th>pages_in_file</th>\n",
              "      <th>relocations</th>\n",
              "      <th>...</th>\n",
              "      <th>total_procsses</th>\n",
              "      <th>files_malicious</th>\n",
              "      <th>files_suspicious</th>\n",
              "      <th>files_text</th>\n",
              "      <th>files_unknown</th>\n",
              "      <th>dlls_calls</th>\n",
              "      <th>apis</th>\n",
              "      <th>Class</th>\n",
              "      <th>Category</th>\n",
              "      <th>Family</th>\n",
              "    </tr>\n",
              "  </thead>\n",
              "  <tbody>\n",
              "    <tr>\n",
              "      <th>0</th>\n",
              "      <td>d5aa2b2506dd71b65307bb551a6a099d</td>\n",
              "      <td>62f4d55a1bb8396e493d7815dc44febed7161535</td>\n",
              "      <td>exe</td>\n",
              "      <td>0x108ec</td>\n",
              "      <td>PE32+</td>\n",
              "      <td>AMD AMD64</td>\n",
              "      <td>MZ</td>\n",
              "      <td>0x0090</td>\n",
              "      <td>0x0003</td>\n",
              "      <td>0x0000</td>\n",
              "      <td>...</td>\n",
              "      <td>0.0</td>\n",
              "      <td>0.0</td>\n",
              "      <td>0.0</td>\n",
              "      <td>0.0</td>\n",
              "      <td>0.0</td>\n",
              "      <td>6.0</td>\n",
              "      <td>162.0</td>\n",
              "      <td>Benign</td>\n",
              "      <td>Benign</td>\n",
              "      <td>Benign</td>\n",
              "    </tr>\n",
              "    <tr>\n",
              "      <th>1</th>\n",
              "      <td>8d1178cec97f96a9ede3efe2f30ef30e</td>\n",
              "      <td>ca40945a4e35d48794a5e13aacf16b8ae1caddeb</td>\n",
              "      <td>exe</td>\n",
              "      <td>0x25cf9c</td>\n",
              "      <td>PE32+</td>\n",
              "      <td>AMD AMD64</td>\n",
              "      <td>MZ</td>\n",
              "      <td>0x0090</td>\n",
              "      <td>0x0003</td>\n",
              "      <td>0x0000</td>\n",
              "      <td>...</td>\n",
              "      <td>93.0</td>\n",
              "      <td>0.0</td>\n",
              "      <td>0.0</td>\n",
              "      <td>0.0</td>\n",
              "      <td>0.0</td>\n",
              "      <td>22.0</td>\n",
              "      <td>778.0</td>\n",
              "      <td>Benign</td>\n",
              "      <td>Benign</td>\n",
              "      <td>Benign</td>\n",
              "    </tr>\n",
              "    <tr>\n",
              "      <th>2</th>\n",
              "      <td>c08d7afb7966f452cf5aa9283fe8880a</td>\n",
              "      <td>6f47b50480bea61ae4dfb75c12582990cc5ce770</td>\n",
              "      <td>exe</td>\n",
              "      <td>0x2a7e</td>\n",
              "      <td>PE32</td>\n",
              "      <td>Intel 386 or later, and compatibles</td>\n",
              "      <td>MZ</td>\n",
              "      <td>0x0090</td>\n",
              "      <td>0x0003</td>\n",
              "      <td>0x0000</td>\n",
              "      <td>...</td>\n",
              "      <td>35.0</td>\n",
              "      <td>0.0</td>\n",
              "      <td>0.0</td>\n",
              "      <td>0.0</td>\n",
              "      <td>0.0</td>\n",
              "      <td>1.0</td>\n",
              "      <td>1.0</td>\n",
              "      <td>Benign</td>\n",
              "      <td>Benign</td>\n",
              "      <td>Benign</td>\n",
              "    </tr>\n",
              "    <tr>\n",
              "      <th>3</th>\n",
              "      <td>3554a3a99e7ffb57552aedcb2520f1d2</td>\n",
              "      <td>8c3d5b506a8d55f42f4c83ead3e4341255d1acfc</td>\n",
              "      <td>exe</td>\n",
              "      <td>0x64ca0</td>\n",
              "      <td>PE32+</td>\n",
              "      <td>AMD AMD64</td>\n",
              "      <td>MZ</td>\n",
              "      <td>0x0090</td>\n",
              "      <td>0x0003</td>\n",
              "      <td>0x0004</td>\n",
              "      <td>...</td>\n",
              "      <td>0.0</td>\n",
              "      <td>0.0</td>\n",
              "      <td>0.0</td>\n",
              "      <td>0.0</td>\n",
              "      <td>0.0</td>\n",
              "      <td>1.0</td>\n",
              "      <td>40.0</td>\n",
              "      <td>Benign</td>\n",
              "      <td>Benign</td>\n",
              "      <td>Benign</td>\n",
              "    </tr>\n",
              "    <tr>\n",
              "      <th>4</th>\n",
              "      <td>5be9511d42136df49d9501680e84109f</td>\n",
              "      <td>0a7d0c68c591db2f197b2169d226bebe6e9bdabe</td>\n",
              "      <td>exe</td>\n",
              "      <td>0x1b9ae</td>\n",
              "      <td>PE32</td>\n",
              "      <td>Intel 386 or later, and compatibles</td>\n",
              "      <td>MZ</td>\n",
              "      <td>0x0090</td>\n",
              "      <td>0x0003</td>\n",
              "      <td>0x0000</td>\n",
              "      <td>...</td>\n",
              "      <td>36.0</td>\n",
              "      <td>0.0</td>\n",
              "      <td>0.0</td>\n",
              "      <td>0.0</td>\n",
              "      <td>0.0</td>\n",
              "      <td>1.0</td>\n",
              "      <td>1.0</td>\n",
              "      <td>Benign</td>\n",
              "      <td>Benign</td>\n",
              "      <td>Benign</td>\n",
              "    </tr>\n",
              "  </tbody>\n",
              "</table>\n",
              "<p>5 rows × 77 columns</p>\n",
              "</div>\n",
              "    <div class=\"colab-df-buttons\">\n",
              "\n",
              "  <div class=\"colab-df-container\">\n",
              "    <button class=\"colab-df-convert\" onclick=\"convertToInteractive('df-a7ec9011-00d5-4a06-ac65-eb81cd5375e3')\"\n",
              "            title=\"Convert this dataframe to an interactive table.\"\n",
              "            style=\"display:none;\">\n",
              "\n",
              "  <svg xmlns=\"http://www.w3.org/2000/svg\" height=\"24px\" viewBox=\"0 -960 960 960\">\n",
              "    <path d=\"M120-120v-720h720v720H120Zm60-500h600v-160H180v160Zm220 220h160v-160H400v160Zm0 220h160v-160H400v160ZM180-400h160v-160H180v160Zm440 0h160v-160H620v160ZM180-180h160v-160H180v160Zm440 0h160v-160H620v160Z\"/>\n",
              "  </svg>\n",
              "    </button>\n",
              "\n",
              "  <style>\n",
              "    .colab-df-container {\n",
              "      display:flex;\n",
              "      gap: 12px;\n",
              "    }\n",
              "\n",
              "    .colab-df-convert {\n",
              "      background-color: #E8F0FE;\n",
              "      border: none;\n",
              "      border-radius: 50%;\n",
              "      cursor: pointer;\n",
              "      display: none;\n",
              "      fill: #1967D2;\n",
              "      height: 32px;\n",
              "      padding: 0 0 0 0;\n",
              "      width: 32px;\n",
              "    }\n",
              "\n",
              "    .colab-df-convert:hover {\n",
              "      background-color: #E2EBFA;\n",
              "      box-shadow: 0px 1px 2px rgba(60, 64, 67, 0.3), 0px 1px 3px 1px rgba(60, 64, 67, 0.15);\n",
              "      fill: #174EA6;\n",
              "    }\n",
              "\n",
              "    .colab-df-buttons div {\n",
              "      margin-bottom: 4px;\n",
              "    }\n",
              "\n",
              "    [theme=dark] .colab-df-convert {\n",
              "      background-color: #3B4455;\n",
              "      fill: #D2E3FC;\n",
              "    }\n",
              "\n",
              "    [theme=dark] .colab-df-convert:hover {\n",
              "      background-color: #434B5C;\n",
              "      box-shadow: 0px 1px 3px 1px rgba(0, 0, 0, 0.15);\n",
              "      filter: drop-shadow(0px 1px 2px rgba(0, 0, 0, 0.3));\n",
              "      fill: #FFFFFF;\n",
              "    }\n",
              "  </style>\n",
              "\n",
              "    <script>\n",
              "      const buttonEl =\n",
              "        document.querySelector('#df-a7ec9011-00d5-4a06-ac65-eb81cd5375e3 button.colab-df-convert');\n",
              "      buttonEl.style.display =\n",
              "        google.colab.kernel.accessAllowed ? 'block' : 'none';\n",
              "\n",
              "      async function convertToInteractive(key) {\n",
              "        const element = document.querySelector('#df-a7ec9011-00d5-4a06-ac65-eb81cd5375e3');\n",
              "        const dataTable =\n",
              "          await google.colab.kernel.invokeFunction('convertToInteractive',\n",
              "                                                    [key], {});\n",
              "        if (!dataTable) return;\n",
              "\n",
              "        const docLinkHtml = 'Like what you see? Visit the ' +\n",
              "          '<a target=\"_blank\" href=https://colab.research.google.com/notebooks/data_table.ipynb>data table notebook</a>'\n",
              "          + ' to learn more about interactive tables.';\n",
              "        element.innerHTML = '';\n",
              "        dataTable['output_type'] = 'display_data';\n",
              "        await google.colab.output.renderOutput(dataTable, element);\n",
              "        const docLink = document.createElement('div');\n",
              "        docLink.innerHTML = docLinkHtml;\n",
              "        element.appendChild(docLink);\n",
              "      }\n",
              "    </script>\n",
              "  </div>\n",
              "\n",
              "\n",
              "    <div id=\"df-c3a47fa2-4b5a-4867-ba60-9202f9f31c0c\">\n",
              "      <button class=\"colab-df-quickchart\" onclick=\"quickchart('df-c3a47fa2-4b5a-4867-ba60-9202f9f31c0c')\"\n",
              "                title=\"Suggest charts\"\n",
              "                style=\"display:none;\">\n",
              "\n",
              "<svg xmlns=\"http://www.w3.org/2000/svg\" height=\"24px\"viewBox=\"0 0 24 24\"\n",
              "     width=\"24px\">\n",
              "    <g>\n",
              "        <path d=\"M19 3H5c-1.1 0-2 .9-2 2v14c0 1.1.9 2 2 2h14c1.1 0 2-.9 2-2V5c0-1.1-.9-2-2-2zM9 17H7v-7h2v7zm4 0h-2V7h2v10zm4 0h-2v-4h2v4z\"/>\n",
              "    </g>\n",
              "</svg>\n",
              "      </button>\n",
              "\n",
              "<style>\n",
              "  .colab-df-quickchart {\n",
              "      --bg-color: #E8F0FE;\n",
              "      --fill-color: #1967D2;\n",
              "      --hover-bg-color: #E2EBFA;\n",
              "      --hover-fill-color: #174EA6;\n",
              "      --disabled-fill-color: #AAA;\n",
              "      --disabled-bg-color: #DDD;\n",
              "  }\n",
              "\n",
              "  [theme=dark] .colab-df-quickchart {\n",
              "      --bg-color: #3B4455;\n",
              "      --fill-color: #D2E3FC;\n",
              "      --hover-bg-color: #434B5C;\n",
              "      --hover-fill-color: #FFFFFF;\n",
              "      --disabled-bg-color: #3B4455;\n",
              "      --disabled-fill-color: #666;\n",
              "  }\n",
              "\n",
              "  .colab-df-quickchart {\n",
              "    background-color: var(--bg-color);\n",
              "    border: none;\n",
              "    border-radius: 50%;\n",
              "    cursor: pointer;\n",
              "    display: none;\n",
              "    fill: var(--fill-color);\n",
              "    height: 32px;\n",
              "    padding: 0;\n",
              "    width: 32px;\n",
              "  }\n",
              "\n",
              "  .colab-df-quickchart:hover {\n",
              "    background-color: var(--hover-bg-color);\n",
              "    box-shadow: 0 1px 2px rgba(60, 64, 67, 0.3), 0 1px 3px 1px rgba(60, 64, 67, 0.15);\n",
              "    fill: var(--button-hover-fill-color);\n",
              "  }\n",
              "\n",
              "  .colab-df-quickchart-complete:disabled,\n",
              "  .colab-df-quickchart-complete:disabled:hover {\n",
              "    background-color: var(--disabled-bg-color);\n",
              "    fill: var(--disabled-fill-color);\n",
              "    box-shadow: none;\n",
              "  }\n",
              "\n",
              "  .colab-df-spinner {\n",
              "    border: 2px solid var(--fill-color);\n",
              "    border-color: transparent;\n",
              "    border-bottom-color: var(--fill-color);\n",
              "    animation:\n",
              "      spin 1s steps(1) infinite;\n",
              "  }\n",
              "\n",
              "  @keyframes spin {\n",
              "    0% {\n",
              "      border-color: transparent;\n",
              "      border-bottom-color: var(--fill-color);\n",
              "      border-left-color: var(--fill-color);\n",
              "    }\n",
              "    20% {\n",
              "      border-color: transparent;\n",
              "      border-left-color: var(--fill-color);\n",
              "      border-top-color: var(--fill-color);\n",
              "    }\n",
              "    30% {\n",
              "      border-color: transparent;\n",
              "      border-left-color: var(--fill-color);\n",
              "      border-top-color: var(--fill-color);\n",
              "      border-right-color: var(--fill-color);\n",
              "    }\n",
              "    40% {\n",
              "      border-color: transparent;\n",
              "      border-right-color: var(--fill-color);\n",
              "      border-top-color: var(--fill-color);\n",
              "    }\n",
              "    60% {\n",
              "      border-color: transparent;\n",
              "      border-right-color: var(--fill-color);\n",
              "    }\n",
              "    80% {\n",
              "      border-color: transparent;\n",
              "      border-right-color: var(--fill-color);\n",
              "      border-bottom-color: var(--fill-color);\n",
              "    }\n",
              "    90% {\n",
              "      border-color: transparent;\n",
              "      border-bottom-color: var(--fill-color);\n",
              "    }\n",
              "  }\n",
              "</style>\n",
              "\n",
              "      <script>\n",
              "        async function quickchart(key) {\n",
              "          const quickchartButtonEl =\n",
              "            document.querySelector('#' + key + ' button');\n",
              "          quickchartButtonEl.disabled = true;  // To prevent multiple clicks.\n",
              "          quickchartButtonEl.classList.add('colab-df-spinner');\n",
              "          try {\n",
              "            const charts = await google.colab.kernel.invokeFunction(\n",
              "                'suggestCharts', [key], {});\n",
              "          } catch (error) {\n",
              "            console.error('Error during call to suggestCharts:', error);\n",
              "          }\n",
              "          quickchartButtonEl.classList.remove('colab-df-spinner');\n",
              "          quickchartButtonEl.classList.add('colab-df-quickchart-complete');\n",
              "        }\n",
              "        (() => {\n",
              "          let quickchartButtonEl =\n",
              "            document.querySelector('#df-c3a47fa2-4b5a-4867-ba60-9202f9f31c0c button');\n",
              "          quickchartButtonEl.style.display =\n",
              "            google.colab.kernel.accessAllowed ? 'block' : 'none';\n",
              "        })();\n",
              "      </script>\n",
              "    </div>\n",
              "\n",
              "    </div>\n",
              "  </div>\n"
            ],
            "application/vnd.google.colaboratory.intrinsic+json": {
              "type": "dataframe",
              "variable_name": "df"
            }
          },
          "metadata": {},
          "execution_count": 3
        }
      ]
    },
    {
      "cell_type": "code",
      "source": [
        "df.tail()"
      ],
      "metadata": {
        "colab": {
          "base_uri": "https://localhost:8080/",
          "height": 429
        },
        "id": "spyJczdIcC8C",
        "outputId": "6e970179-12e3-47ed-b31e-45a885d3b598"
      },
      "execution_count": null,
      "outputs": [
        {
          "output_type": "execute_result",
          "data": {
            "text/plain": [
              "                                    md5  \\\n",
              "21747  3aabbbed7dd5e3589f2387ec1a62471f   \n",
              "21748  c62343c3c6463795e88fe0a2a81c82b3   \n",
              "21749  db92e74aee2f64a0b40a64c1a014e257   \n",
              "21750  06e50d688d5b79ffea6135c7a55402cd   \n",
              "21751  981de70f5242ac1192bf182be3797e1b   \n",
              "\n",
              "                                           sha1 file_extension EntryPoint  \\\n",
              "21747  067d84bef48f6abc37226c6ccb981d21f7c8b93f            exe    0x889b6   \n",
              "21748  02df1939b04bc7de83c3029c5eb8e9b25cc9be91            exe    0x9a2f2   \n",
              "21749  fde61811f7ae53f9fa59e17fb5c2c6143a48b282            exe    0x9a2f2   \n",
              "21750  ad58274e8425775b284ee1f314f879100d437340            exe    0x9a2f2   \n",
              "21751  d7ac568899333c823c589444286f9d3655992332            exe    0xa13ae   \n",
              "\n",
              "      PEType                          MachineType magic_number  \\\n",
              "21747   PE32  Intel 386 or later, and compatibles           MZ   \n",
              "21748   PE32  Intel 386 or later, and compatibles           MZ   \n",
              "21749   PE32  Intel 386 or later, and compatibles           MZ   \n",
              "21750   PE32  Intel 386 or later, and compatibles           MZ   \n",
              "21751   PE32  Intel 386 or later, and compatibles           MZ   \n",
              "\n",
              "      bytes_on_last_page pages_in_file relocations  ... total_procsses  \\\n",
              "21747             0x0090        0x0003      0x0000  ...           29.0   \n",
              "21748             0x0090        0x0003      0x0000  ...           32.0   \n",
              "21749             0x0090        0x0003      0x0000  ...           35.0   \n",
              "21750             0x0090        0x0003      0x0000  ...           29.0   \n",
              "21751             0x0090        0x0003      0x0000  ...           33.0   \n",
              "\n",
              "      files_malicious files_suspicious files_text files_unknown dlls_calls  \\\n",
              "21747             0.0              0.0        0.0           0.0        1.0   \n",
              "21748             0.0              0.0        0.0           0.0        1.0   \n",
              "21749             0.0              0.0        0.0           0.0        1.0   \n",
              "21750             0.0              0.0        0.0           0.0        1.0   \n",
              "21751             1.0              0.0        1.0           0.0        0.0   \n",
              "\n",
              "      apis    Class Category Family  \n",
              "21747  1.0  Malware  Stealer  Snake  \n",
              "21748  1.0  Malware  Stealer  Snake  \n",
              "21749  1.0  Malware  Stealer  Snake  \n",
              "21750  1.0  Malware  Stealer  Snake  \n",
              "21751  0.0  Malware  Stealer  Snake  \n",
              "\n",
              "[5 rows x 77 columns]"
            ],
            "text/html": [
              "\n",
              "  <div id=\"df-876dcd1e-0c67-476a-b2da-66455f18cfeb\" class=\"colab-df-container\">\n",
              "    <div>\n",
              "<style scoped>\n",
              "    .dataframe tbody tr th:only-of-type {\n",
              "        vertical-align: middle;\n",
              "    }\n",
              "\n",
              "    .dataframe tbody tr th {\n",
              "        vertical-align: top;\n",
              "    }\n",
              "\n",
              "    .dataframe thead th {\n",
              "        text-align: right;\n",
              "    }\n",
              "</style>\n",
              "<table border=\"1\" class=\"dataframe\">\n",
              "  <thead>\n",
              "    <tr style=\"text-align: right;\">\n",
              "      <th></th>\n",
              "      <th>md5</th>\n",
              "      <th>sha1</th>\n",
              "      <th>file_extension</th>\n",
              "      <th>EntryPoint</th>\n",
              "      <th>PEType</th>\n",
              "      <th>MachineType</th>\n",
              "      <th>magic_number</th>\n",
              "      <th>bytes_on_last_page</th>\n",
              "      <th>pages_in_file</th>\n",
              "      <th>relocations</th>\n",
              "      <th>...</th>\n",
              "      <th>total_procsses</th>\n",
              "      <th>files_malicious</th>\n",
              "      <th>files_suspicious</th>\n",
              "      <th>files_text</th>\n",
              "      <th>files_unknown</th>\n",
              "      <th>dlls_calls</th>\n",
              "      <th>apis</th>\n",
              "      <th>Class</th>\n",
              "      <th>Category</th>\n",
              "      <th>Family</th>\n",
              "    </tr>\n",
              "  </thead>\n",
              "  <tbody>\n",
              "    <tr>\n",
              "      <th>21747</th>\n",
              "      <td>3aabbbed7dd5e3589f2387ec1a62471f</td>\n",
              "      <td>067d84bef48f6abc37226c6ccb981d21f7c8b93f</td>\n",
              "      <td>exe</td>\n",
              "      <td>0x889b6</td>\n",
              "      <td>PE32</td>\n",
              "      <td>Intel 386 or later, and compatibles</td>\n",
              "      <td>MZ</td>\n",
              "      <td>0x0090</td>\n",
              "      <td>0x0003</td>\n",
              "      <td>0x0000</td>\n",
              "      <td>...</td>\n",
              "      <td>29.0</td>\n",
              "      <td>0.0</td>\n",
              "      <td>0.0</td>\n",
              "      <td>0.0</td>\n",
              "      <td>0.0</td>\n",
              "      <td>1.0</td>\n",
              "      <td>1.0</td>\n",
              "      <td>Malware</td>\n",
              "      <td>Stealer</td>\n",
              "      <td>Snake</td>\n",
              "    </tr>\n",
              "    <tr>\n",
              "      <th>21748</th>\n",
              "      <td>c62343c3c6463795e88fe0a2a81c82b3</td>\n",
              "      <td>02df1939b04bc7de83c3029c5eb8e9b25cc9be91</td>\n",
              "      <td>exe</td>\n",
              "      <td>0x9a2f2</td>\n",
              "      <td>PE32</td>\n",
              "      <td>Intel 386 or later, and compatibles</td>\n",
              "      <td>MZ</td>\n",
              "      <td>0x0090</td>\n",
              "      <td>0x0003</td>\n",
              "      <td>0x0000</td>\n",
              "      <td>...</td>\n",
              "      <td>32.0</td>\n",
              "      <td>0.0</td>\n",
              "      <td>0.0</td>\n",
              "      <td>0.0</td>\n",
              "      <td>0.0</td>\n",
              "      <td>1.0</td>\n",
              "      <td>1.0</td>\n",
              "      <td>Malware</td>\n",
              "      <td>Stealer</td>\n",
              "      <td>Snake</td>\n",
              "    </tr>\n",
              "    <tr>\n",
              "      <th>21749</th>\n",
              "      <td>db92e74aee2f64a0b40a64c1a014e257</td>\n",
              "      <td>fde61811f7ae53f9fa59e17fb5c2c6143a48b282</td>\n",
              "      <td>exe</td>\n",
              "      <td>0x9a2f2</td>\n",
              "      <td>PE32</td>\n",
              "      <td>Intel 386 or later, and compatibles</td>\n",
              "      <td>MZ</td>\n",
              "      <td>0x0090</td>\n",
              "      <td>0x0003</td>\n",
              "      <td>0x0000</td>\n",
              "      <td>...</td>\n",
              "      <td>35.0</td>\n",
              "      <td>0.0</td>\n",
              "      <td>0.0</td>\n",
              "      <td>0.0</td>\n",
              "      <td>0.0</td>\n",
              "      <td>1.0</td>\n",
              "      <td>1.0</td>\n",
              "      <td>Malware</td>\n",
              "      <td>Stealer</td>\n",
              "      <td>Snake</td>\n",
              "    </tr>\n",
              "    <tr>\n",
              "      <th>21750</th>\n",
              "      <td>06e50d688d5b79ffea6135c7a55402cd</td>\n",
              "      <td>ad58274e8425775b284ee1f314f879100d437340</td>\n",
              "      <td>exe</td>\n",
              "      <td>0x9a2f2</td>\n",
              "      <td>PE32</td>\n",
              "      <td>Intel 386 or later, and compatibles</td>\n",
              "      <td>MZ</td>\n",
              "      <td>0x0090</td>\n",
              "      <td>0x0003</td>\n",
              "      <td>0x0000</td>\n",
              "      <td>...</td>\n",
              "      <td>29.0</td>\n",
              "      <td>0.0</td>\n",
              "      <td>0.0</td>\n",
              "      <td>0.0</td>\n",
              "      <td>0.0</td>\n",
              "      <td>1.0</td>\n",
              "      <td>1.0</td>\n",
              "      <td>Malware</td>\n",
              "      <td>Stealer</td>\n",
              "      <td>Snake</td>\n",
              "    </tr>\n",
              "    <tr>\n",
              "      <th>21751</th>\n",
              "      <td>981de70f5242ac1192bf182be3797e1b</td>\n",
              "      <td>d7ac568899333c823c589444286f9d3655992332</td>\n",
              "      <td>exe</td>\n",
              "      <td>0xa13ae</td>\n",
              "      <td>PE32</td>\n",
              "      <td>Intel 386 or later, and compatibles</td>\n",
              "      <td>MZ</td>\n",
              "      <td>0x0090</td>\n",
              "      <td>0x0003</td>\n",
              "      <td>0x0000</td>\n",
              "      <td>...</td>\n",
              "      <td>33.0</td>\n",
              "      <td>1.0</td>\n",
              "      <td>0.0</td>\n",
              "      <td>1.0</td>\n",
              "      <td>0.0</td>\n",
              "      <td>0.0</td>\n",
              "      <td>0.0</td>\n",
              "      <td>Malware</td>\n",
              "      <td>Stealer</td>\n",
              "      <td>Snake</td>\n",
              "    </tr>\n",
              "  </tbody>\n",
              "</table>\n",
              "<p>5 rows × 77 columns</p>\n",
              "</div>\n",
              "    <div class=\"colab-df-buttons\">\n",
              "\n",
              "  <div class=\"colab-df-container\">\n",
              "    <button class=\"colab-df-convert\" onclick=\"convertToInteractive('df-876dcd1e-0c67-476a-b2da-66455f18cfeb')\"\n",
              "            title=\"Convert this dataframe to an interactive table.\"\n",
              "            style=\"display:none;\">\n",
              "\n",
              "  <svg xmlns=\"http://www.w3.org/2000/svg\" height=\"24px\" viewBox=\"0 -960 960 960\">\n",
              "    <path d=\"M120-120v-720h720v720H120Zm60-500h600v-160H180v160Zm220 220h160v-160H400v160Zm0 220h160v-160H400v160ZM180-400h160v-160H180v160Zm440 0h160v-160H620v160ZM180-180h160v-160H180v160Zm440 0h160v-160H620v160Z\"/>\n",
              "  </svg>\n",
              "    </button>\n",
              "\n",
              "  <style>\n",
              "    .colab-df-container {\n",
              "      display:flex;\n",
              "      gap: 12px;\n",
              "    }\n",
              "\n",
              "    .colab-df-convert {\n",
              "      background-color: #E8F0FE;\n",
              "      border: none;\n",
              "      border-radius: 50%;\n",
              "      cursor: pointer;\n",
              "      display: none;\n",
              "      fill: #1967D2;\n",
              "      height: 32px;\n",
              "      padding: 0 0 0 0;\n",
              "      width: 32px;\n",
              "    }\n",
              "\n",
              "    .colab-df-convert:hover {\n",
              "      background-color: #E2EBFA;\n",
              "      box-shadow: 0px 1px 2px rgba(60, 64, 67, 0.3), 0px 1px 3px 1px rgba(60, 64, 67, 0.15);\n",
              "      fill: #174EA6;\n",
              "    }\n",
              "\n",
              "    .colab-df-buttons div {\n",
              "      margin-bottom: 4px;\n",
              "    }\n",
              "\n",
              "    [theme=dark] .colab-df-convert {\n",
              "      background-color: #3B4455;\n",
              "      fill: #D2E3FC;\n",
              "    }\n",
              "\n",
              "    [theme=dark] .colab-df-convert:hover {\n",
              "      background-color: #434B5C;\n",
              "      box-shadow: 0px 1px 3px 1px rgba(0, 0, 0, 0.15);\n",
              "      filter: drop-shadow(0px 1px 2px rgba(0, 0, 0, 0.3));\n",
              "      fill: #FFFFFF;\n",
              "    }\n",
              "  </style>\n",
              "\n",
              "    <script>\n",
              "      const buttonEl =\n",
              "        document.querySelector('#df-876dcd1e-0c67-476a-b2da-66455f18cfeb button.colab-df-convert');\n",
              "      buttonEl.style.display =\n",
              "        google.colab.kernel.accessAllowed ? 'block' : 'none';\n",
              "\n",
              "      async function convertToInteractive(key) {\n",
              "        const element = document.querySelector('#df-876dcd1e-0c67-476a-b2da-66455f18cfeb');\n",
              "        const dataTable =\n",
              "          await google.colab.kernel.invokeFunction('convertToInteractive',\n",
              "                                                    [key], {});\n",
              "        if (!dataTable) return;\n",
              "\n",
              "        const docLinkHtml = 'Like what you see? Visit the ' +\n",
              "          '<a target=\"_blank\" href=https://colab.research.google.com/notebooks/data_table.ipynb>data table notebook</a>'\n",
              "          + ' to learn more about interactive tables.';\n",
              "        element.innerHTML = '';\n",
              "        dataTable['output_type'] = 'display_data';\n",
              "        await google.colab.output.renderOutput(dataTable, element);\n",
              "        const docLink = document.createElement('div');\n",
              "        docLink.innerHTML = docLinkHtml;\n",
              "        element.appendChild(docLink);\n",
              "      }\n",
              "    </script>\n",
              "  </div>\n",
              "\n",
              "\n",
              "    <div id=\"df-d47bad43-9bd8-4a52-ba6e-903d200df81a\">\n",
              "      <button class=\"colab-df-quickchart\" onclick=\"quickchart('df-d47bad43-9bd8-4a52-ba6e-903d200df81a')\"\n",
              "                title=\"Suggest charts\"\n",
              "                style=\"display:none;\">\n",
              "\n",
              "<svg xmlns=\"http://www.w3.org/2000/svg\" height=\"24px\"viewBox=\"0 0 24 24\"\n",
              "     width=\"24px\">\n",
              "    <g>\n",
              "        <path d=\"M19 3H5c-1.1 0-2 .9-2 2v14c0 1.1.9 2 2 2h14c1.1 0 2-.9 2-2V5c0-1.1-.9-2-2-2zM9 17H7v-7h2v7zm4 0h-2V7h2v10zm4 0h-2v-4h2v4z\"/>\n",
              "    </g>\n",
              "</svg>\n",
              "      </button>\n",
              "\n",
              "<style>\n",
              "  .colab-df-quickchart {\n",
              "      --bg-color: #E8F0FE;\n",
              "      --fill-color: #1967D2;\n",
              "      --hover-bg-color: #E2EBFA;\n",
              "      --hover-fill-color: #174EA6;\n",
              "      --disabled-fill-color: #AAA;\n",
              "      --disabled-bg-color: #DDD;\n",
              "  }\n",
              "\n",
              "  [theme=dark] .colab-df-quickchart {\n",
              "      --bg-color: #3B4455;\n",
              "      --fill-color: #D2E3FC;\n",
              "      --hover-bg-color: #434B5C;\n",
              "      --hover-fill-color: #FFFFFF;\n",
              "      --disabled-bg-color: #3B4455;\n",
              "      --disabled-fill-color: #666;\n",
              "  }\n",
              "\n",
              "  .colab-df-quickchart {\n",
              "    background-color: var(--bg-color);\n",
              "    border: none;\n",
              "    border-radius: 50%;\n",
              "    cursor: pointer;\n",
              "    display: none;\n",
              "    fill: var(--fill-color);\n",
              "    height: 32px;\n",
              "    padding: 0;\n",
              "    width: 32px;\n",
              "  }\n",
              "\n",
              "  .colab-df-quickchart:hover {\n",
              "    background-color: var(--hover-bg-color);\n",
              "    box-shadow: 0 1px 2px rgba(60, 64, 67, 0.3), 0 1px 3px 1px rgba(60, 64, 67, 0.15);\n",
              "    fill: var(--button-hover-fill-color);\n",
              "  }\n",
              "\n",
              "  .colab-df-quickchart-complete:disabled,\n",
              "  .colab-df-quickchart-complete:disabled:hover {\n",
              "    background-color: var(--disabled-bg-color);\n",
              "    fill: var(--disabled-fill-color);\n",
              "    box-shadow: none;\n",
              "  }\n",
              "\n",
              "  .colab-df-spinner {\n",
              "    border: 2px solid var(--fill-color);\n",
              "    border-color: transparent;\n",
              "    border-bottom-color: var(--fill-color);\n",
              "    animation:\n",
              "      spin 1s steps(1) infinite;\n",
              "  }\n",
              "\n",
              "  @keyframes spin {\n",
              "    0% {\n",
              "      border-color: transparent;\n",
              "      border-bottom-color: var(--fill-color);\n",
              "      border-left-color: var(--fill-color);\n",
              "    }\n",
              "    20% {\n",
              "      border-color: transparent;\n",
              "      border-left-color: var(--fill-color);\n",
              "      border-top-color: var(--fill-color);\n",
              "    }\n",
              "    30% {\n",
              "      border-color: transparent;\n",
              "      border-left-color: var(--fill-color);\n",
              "      border-top-color: var(--fill-color);\n",
              "      border-right-color: var(--fill-color);\n",
              "    }\n",
              "    40% {\n",
              "      border-color: transparent;\n",
              "      border-right-color: var(--fill-color);\n",
              "      border-top-color: var(--fill-color);\n",
              "    }\n",
              "    60% {\n",
              "      border-color: transparent;\n",
              "      border-right-color: var(--fill-color);\n",
              "    }\n",
              "    80% {\n",
              "      border-color: transparent;\n",
              "      border-right-color: var(--fill-color);\n",
              "      border-bottom-color: var(--fill-color);\n",
              "    }\n",
              "    90% {\n",
              "      border-color: transparent;\n",
              "      border-bottom-color: var(--fill-color);\n",
              "    }\n",
              "  }\n",
              "</style>\n",
              "\n",
              "      <script>\n",
              "        async function quickchart(key) {\n",
              "          const quickchartButtonEl =\n",
              "            document.querySelector('#' + key + ' button');\n",
              "          quickchartButtonEl.disabled = true;  // To prevent multiple clicks.\n",
              "          quickchartButtonEl.classList.add('colab-df-spinner');\n",
              "          try {\n",
              "            const charts = await google.colab.kernel.invokeFunction(\n",
              "                'suggestCharts', [key], {});\n",
              "          } catch (error) {\n",
              "            console.error('Error during call to suggestCharts:', error);\n",
              "          }\n",
              "          quickchartButtonEl.classList.remove('colab-df-spinner');\n",
              "          quickchartButtonEl.classList.add('colab-df-quickchart-complete');\n",
              "        }\n",
              "        (() => {\n",
              "          let quickchartButtonEl =\n",
              "            document.querySelector('#df-d47bad43-9bd8-4a52-ba6e-903d200df81a button');\n",
              "          quickchartButtonEl.style.display =\n",
              "            google.colab.kernel.accessAllowed ? 'block' : 'none';\n",
              "        })();\n",
              "      </script>\n",
              "    </div>\n",
              "\n",
              "    </div>\n",
              "  </div>\n"
            ],
            "application/vnd.google.colaboratory.intrinsic+json": {
              "type": "dataframe"
            }
          },
          "metadata": {},
          "execution_count": 4
        }
      ]
    },
    {
      "cell_type": "markdown",
      "source": [
        "Delete rows with missing values"
      ],
      "metadata": {
        "id": "G31xrGH-fQKs"
      }
    },
    {
      "cell_type": "code",
      "source": [
        "df.dropna(inplace=True)"
      ],
      "metadata": {
        "id": "MrGDyaz3cGsr"
      },
      "execution_count": null,
      "outputs": []
    },
    {
      "cell_type": "markdown",
      "source": [
        "Drop rows with duplicates values (this is not required with this csv file, since the authors say that this version of dataset doesn't have any duplicates)"
      ],
      "metadata": {
        "id": "dU4cHgWzfTnZ"
      }
    },
    {
      "cell_type": "code",
      "source": [
        "df.drop_duplicates(inplace=True)"
      ],
      "metadata": {
        "id": "rh9Zhj0kfSF6"
      },
      "execution_count": null,
      "outputs": []
    },
    {
      "cell_type": "markdown",
      "source": [
        "Pick the class to use. We can pick either Class, Category, or Family for more or less details on the type of the attack.\n",
        "*   Category has two values: benign and malware\n",
        "*   Category has 5 values: benign, ransomware, RAT, stealer, and trojan\n",
        "*   Family has 27 values: Benign, Cerber, DarkSide, Dharma, Gandcrab, LockBit, Maze, Phobos, Ragnar, REvil, Ryuk, Shade, WannaCry, Gh0st, Glupteba, NanoCore, njRat, Remcos, Ursnif, Agenttesla, Emotet, Guloader, Qbot, Formbook, Raccoon, RedLine, and Snake\n",
        "\n",
        "\n"
      ],
      "metadata": {
        "id": "IK4fuDWEluMw"
      }
    },
    {
      "cell_type": "code",
      "source": [
        "target = 'Class'"
      ],
      "metadata": {
        "id": "MIX3On8vfdgZ"
      },
      "execution_count": null,
      "outputs": []
    },
    {
      "cell_type": "markdown",
      "source": [
        "Change text columns to numeric (encoding)"
      ],
      "metadata": {
        "id": "sbYG4sa_mfC-"
      }
    },
    {
      "cell_type": "code",
      "source": [
        "label_encoders = {}\n",
        "for col in df.select_dtypes(include='object').columns:\n",
        "    le = LabelEncoder()\n",
        "    df[col] = le.fit_transform(df[col])\n",
        "    label_encoders[col] = le"
      ],
      "metadata": {
        "id": "6P-vN-9lmoIV"
      },
      "execution_count": null,
      "outputs": []
    },
    {
      "cell_type": "markdown",
      "source": [
        "Split the data based on target (class in this case) and remove the other two class columns Category and Familiy"
      ],
      "metadata": {
        "id": "-RQTzBjKmqz4"
      }
    },
    {
      "cell_type": "code",
      "source": [
        "X = df.drop(columns=[target, \"Category\", \"Family\"])\n",
        "y = df[target]"
      ],
      "metadata": {
        "id": "tPmlZpNbmooZ"
      },
      "execution_count": null,
      "outputs": []
    },
    {
      "cell_type": "markdown",
      "source": [
        "Standardize the columns to avoid scale problems (a columns with a wide range would affect the model more than column with small range)"
      ],
      "metadata": {
        "id": "kvCBJxL8nAgi"
      }
    },
    {
      "cell_type": "code",
      "source": [
        "scaler = StandardScaler()\n",
        "X_scaled = scaler.fit_transform(X)"
      ],
      "metadata": {
        "id": "Uqu3pTzgnAGp"
      },
      "execution_count": null,
      "outputs": []
    },
    {
      "cell_type": "markdown",
      "source": [
        "Split the data into train (80% of data) and test (20% of the data)"
      ],
      "metadata": {
        "id": "5ly-RkmznVvq"
      }
    },
    {
      "cell_type": "code",
      "source": [
        "X_train, X_test, y_train, y_test = train_test_split(X_scaled, y, test_size=0.2, random_state=42)\n"
      ],
      "metadata": {
        "id": "WXmlWjapm99K"
      },
      "execution_count": null,
      "outputs": []
    },
    {
      "cell_type": "code",
      "source": [
        "X_train.shape"
      ],
      "metadata": {
        "colab": {
          "base_uri": "https://localhost:8080/"
        },
        "id": "pXS90PWKnaGY",
        "outputId": "6350d718-3b1c-49e1-a5f7-d1163edf9c48"
      },
      "execution_count": null,
      "outputs": [
        {
          "output_type": "execute_result",
          "data": {
            "text/plain": [
              "(17401, 74)"
            ]
          },
          "metadata": {},
          "execution_count": 12
        }
      ]
    },
    {
      "cell_type": "code",
      "source": [
        "X_test.shape"
      ],
      "metadata": {
        "colab": {
          "base_uri": "https://localhost:8080/"
        },
        "id": "9r5Y1zITslam",
        "outputId": "837d1e51-f764-4309-f5cf-4d1e47f345cb"
      },
      "execution_count": null,
      "outputs": [
        {
          "output_type": "execute_result",
          "data": {
            "text/plain": [
              "(4351, 74)"
            ]
          },
          "metadata": {},
          "execution_count": 13
        }
      ]
    },
    {
      "cell_type": "markdown",
      "source": [
        "Train a random forest model an display it's accuracy"
      ],
      "metadata": {
        "id": "Xkgv32a2Hu0p"
      }
    },
    {
      "cell_type": "code",
      "source": [
        "rf_model = RandomForestClassifier(random_state=42)\n",
        "rf_model.fit(X_train, y_train)\n",
        "rf_pred = rf_model.predict(X_test)\n",
        "print(\"Random Forest accuracy:\", accuracy_score(y_test, rf_pred))\n",
        "print(classification_report(y_test, rf_pred))"
      ],
      "metadata": {
        "colab": {
          "base_uri": "https://localhost:8080/"
        },
        "id": "MhodRBBYsntR",
        "outputId": "da9aea4a-6163-457c-d611-c212373a1288"
      },
      "execution_count": null,
      "outputs": [
        {
          "output_type": "stream",
          "name": "stdout",
          "text": [
            "Random Forest accuracy: 0.9944840266605378\n",
            "              precision    recall  f1-score   support\n",
            "\n",
            "           0       1.00      0.99      0.99      2189\n",
            "           1       0.99      1.00      0.99      2162\n",
            "\n",
            "    accuracy                           0.99      4351\n",
            "   macro avg       0.99      0.99      0.99      4351\n",
            "weighted avg       0.99      0.99      0.99      4351\n",
            "\n"
          ]
        }
      ]
    },
    {
      "cell_type": "markdown",
      "source": [
        "Using Logistic Regression"
      ],
      "metadata": {
        "id": "e2IdzS6eMkYT"
      }
    },
    {
      "cell_type": "code",
      "source": [
        "lr_model = LogisticRegression(max_iter=1000)\n",
        "lr_model.fit(X_train, y_train)\n",
        "lr_pred = lr_model.predict(X_test)\n",
        "print(\"Logistic Regression Accuracy:\", accuracy_score(y_test, lr_pred))\n",
        "print(classification_report(y_test, lr_pred))"
      ],
      "metadata": {
        "colab": {
          "base_uri": "https://localhost:8080/"
        },
        "id": "9MwQVCufMmgx",
        "outputId": "6530b3f9-1167-44db-f8a2-5f6dcdf45b32"
      },
      "execution_count": null,
      "outputs": [
        {
          "output_type": "stream",
          "name": "stdout",
          "text": [
            "Logistic Regression Accuracy: 0.9841415766490462\n",
            "              precision    recall  f1-score   support\n",
            "\n",
            "           0       0.98      0.99      0.98      2189\n",
            "           1       0.99      0.98      0.98      2162\n",
            "\n",
            "    accuracy                           0.98      4351\n",
            "   macro avg       0.98      0.98      0.98      4351\n",
            "weighted avg       0.98      0.98      0.98      4351\n",
            "\n"
          ]
        }
      ]
    },
    {
      "cell_type": "markdown",
      "source": [
        "using XGBoost"
      ],
      "metadata": {
        "id": "8PtyNuzXqIqU"
      }
    },
    {
      "cell_type": "code",
      "source": [
        "xgb_model = XGBClassifier(use_label_encoder=False, eval_metric='logloss')\n",
        "xgb_model.fit(X_train, y_train)\n",
        "xgb_pred = xgb_model.predict(X_test)\n",
        "print(\"XGBoost Accuracy:\", accuracy_score(y_test, xgb_pred))\n",
        "print(classification_report(y_test, xgb_pred))"
      ],
      "metadata": {
        "colab": {
          "base_uri": "https://localhost:8080/"
        },
        "id": "6MAF6u-OMnKE",
        "outputId": "0bf5e697-923d-46fb-e394-8d72dcf4d13e"
      },
      "execution_count": null,
      "outputs": [
        {
          "output_type": "stream",
          "name": "stderr",
          "text": [
            "/usr/local/lib/python3.11/dist-packages/xgboost/core.py:158: UserWarning: [19:05:13] WARNING: /workspace/src/learner.cc:740: \n",
            "Parameters: { \"use_label_encoder\" } are not used.\n",
            "\n",
            "  warnings.warn(smsg, UserWarning)\n"
          ]
        },
        {
          "output_type": "stream",
          "name": "stdout",
          "text": [
            "XGBoost Accuracy: 0.9940243622155827\n",
            "              precision    recall  f1-score   support\n",
            "\n",
            "           0       0.99      0.99      0.99      2189\n",
            "           1       0.99      0.99      0.99      2162\n",
            "\n",
            "    accuracy                           0.99      4351\n",
            "   macro avg       0.99      0.99      0.99      4351\n",
            "weighted avg       0.99      0.99      0.99      4351\n",
            "\n"
          ]
        }
      ]
    },
    {
      "cell_type": "markdown",
      "source": [
        "Comapre the models\n"
      ],
      "metadata": {
        "id": "5c7aeupNqOZ7"
      }
    },
    {
      "cell_type": "code",
      "source": [
        "models = ['Random Forest', 'Logistic Regression', 'XGBoost']\n",
        "accuracies = [accuracy_score(y_test, rf_pred),accuracy_score(y_test, lr_pred),accuracy_score(y_test, xgb_pred)]\n",
        "plt.figure(figsize=(8, 5))\n",
        "sns.barplot(x=models, y=accuracies)\n",
        "plt.title(\"Model Comparison by Accuracy\")\n",
        "plt.ylabel(\"Accuracy\")\n",
        "plt.ylim(0.9, 1)\n",
        "plt.show()\n"
      ],
      "metadata": {
        "colab": {
          "base_uri": "https://localhost:8080/",
          "height": 468
        },
        "id": "v5QQs1_yqRVF",
        "outputId": "7242dd88-70af-429a-ac95-28085995efe2"
      },
      "execution_count": null,
      "outputs": [
        {
          "output_type": "display_data",
          "data": {
            "text/plain": [
              "<Figure size 800x500 with 1 Axes>"
            ],
            "image/png": "[encoded data removed]"
          },
          "metadata": {}
        }
      ]
    },
    {
      "cell_type": "markdown",
      "source": [
        "All the models yielded similar result with a small advantage for random forest"
      ],
      "metadata": {
        "id": "-y0iTdhCrbK7"
      }
    },
    {
      "cell_type": "markdown",
      "source": [
        "The purpose of of this small project is build several machine learning models that are Random Forest, Logistic Regression, and XGBoost using the Ransomware Dataset 2024 provided by Amjad Hussain (link [link text](https://zenodo.org/records/13890887)).  \n",
        "We first loaded the data as Pandas dataframe and removed any rows that contains missing values. We also removed any duplocate rows, even though this was not really necessary, because the author asserts the duplicate rows were already discarded. Afterwards, we transformed the data from text to numeric using label encoding. We also, picked the the \"Class\" colum as the value to predict while discarding \"Category\" and \"Family\" which cotain more detailed classes.  \n",
        "Next, we split the data into training and testing sets (80/20 ratio) to evaluate model performance effectively. Each model was then trained using the training data and evaluated on the test set using metrics such as accuracy and classification reports (precision, recall, F1-score).  \n",
        "Finally, we compared the obtained models by visualizing their accuracy scores in a bar chart where we found out the Random Forest was the best ML model."
      ],
      "metadata": {
        "id": "waJxfMuBC0Ia"
      }
    },
    {
      "cell_type": "code",
      "source": [
        "models = ['Random Forest', 'Logistic Regression', 'XGBoost']\n",
        "precisions = [precision_score(y_test, rf_pred, average='weighted'),precision_score(y_test, lr_pred, average='weighted'),precision_score(y_test, xgb_pred, average='weighted')]\n",
        "plt.figure(figsize=(8, 5))\n",
        "plt.barh(models, precisions)\n",
        "plt.title(\"Model Comparison by Precisions\")\n",
        "plt.xlabel(\"Precision Score (weighted)\")\n",
        "plt.xlim(0.9, 1)\n",
        "plt.grid(axis='x')\n",
        "plt.show()"
      ],
      "metadata": {
        "colab": {
          "base_uri": "https://localhost:8080/",
          "height": 487
        },
        "id": "tBcx-J17rimB",
        "outputId": "01457cb5-ca8f-4879-c979-e59940416e07"
      },
      "execution_count": null,
      "outputs": [
        {
          "output_type": "display_data",
          "data": {
            "text/plain": [
              "<Figure size 800x500 with 1 Axes>"
            ],
            "image/png": "[encoded data removed]"
          },
          "metadata": {}
        }
      ]
    },
    {
      "cell_type": "code",
      "source": [
        "print(accuracies)\n",
        "print(precisions)"
      ],
      "metadata": {
        "colab": {
          "base_uri": "https://localhost:8080/"
        },
        "id": "vs6eipTpW50x",
        "outputId": "fe417a82-fc7c-4654-ae54-b7e694d59495"
      },
      "execution_count": null,
      "outputs": [
        {
          "output_type": "stream",
          "name": "stdout",
          "text": [
            "[0.9944840266605378, 0.9841415766490462, 0.9940243622155827]\n",
            "[0.9935364727608494, 0.9869706840390879, 0.9935304990757856]\n"
          ]
        }
      ]
    }
  ]
}